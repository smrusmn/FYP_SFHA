{
  "cells": [
    {
      "cell_type": "markdown",
      "metadata": {
        "id": "H1BDPfomSnOq"
      },
      "source": []
    },
    {
      "cell_type": "code",
      "execution_count": 1,
      "metadata": {
        "id": "k3Od85DHN84B"
      },
      "outputs": [],
      "source": [
        "import spacy\n",
        "from sklearn import svm\n",
        "nlp = spacy.load(\"en_core_web_sm\")\n",
        "import numpy as np\n",
        "import pandas as pd\n"
      ]
    },
    {
      "cell_type": "code",
      "execution_count": null,
      "metadata": {
        "id": "45nqAMLdCf3k"
      },
      "outputs": [],
      "source": [
        "df = pd.read_csv('sfhadata.csv')\n",
        "df.head()"
      ]
    },
    {
      "cell_type": "code",
      "execution_count": null,
      "metadata": {
        "id": "5fb5S5QCDvhS"
      },
      "outputs": [],
      "source": [
        "train_x = df['Sentence'].iloc[:21]\n",
        "train_y = df['DAL'].iloc[:21]\n",
        "test_x = df['Sentence'].iloc[21:]\n",
        "test_y = df['DAL'].iloc[21:]\n",
        "test_x.head()\n"
      ]
    },
    {
      "cell_type": "code",
      "execution_count": null,
      "metadata": {
        "id": "PFFqaZCLFX-7"
      },
      "outputs": [],
      "source": [
        "docs = [nlp(text) for text in (train_x)]\n",
        "# print(docs)\n",
        "x_vecs = []\n",
        "trf = spacy.load('en_core_web_sm')\n",
        "for doc in trf.pipe(train_x):\n",
        "  a = doc.vector\n",
        "  x_vecs.append(a)\n"
      ]
    },
    {
      "cell_type": "code",
      "execution_count": null,
      "metadata": {
        "id": "sGqix7fvOUH5"
      },
      "outputs": [],
      "source": [
        "\n",
        "\n",
        "# # doc = nlp('here is the some basic text to encode')\n",
        "# class Category:\n",
        "#  Ground = 'Ground'\n",
        "#  Takeoff = 'Takeoff'\n",
        "#  Inflight = 'Inflight'\n",
        "#  Landing = 'Landing'\n",
        "#  All = 'All Phases'\n",
        "\n",
        "# train_x = [\"our landing breaks are not working\", \"before take off check break system\", \"check out communication system\"]\n",
        "# train_y = [Category.Landing, Category.Takeoff, Category.Inflight]\n",
        "\n",
        "# docs = [nlp(text) for text in (train_x)]\n",
        "# # print(docs)\n",
        "# x_vecs = []\n",
        "# nlp = spacy.load(\"en_core_web_sm\")\n",
        "# for doc in nlp.pipe(train_x):\n",
        "#     a = doc.vector\n",
        "#     x_vecs.append(a)"
      ]
    },
    {
      "cell_type": "code",
      "source": [
        "clf = svm.SVC(kernel='linear')\n",
        "clf.fit(x_vecs,train_y)\n",
        "\n",
        "docx = [nlp(text) for text in test_x]\n",
        "test_x_vecs = []\n",
        "nlp = spacy.load(\"en_core_web_sm\")\n",
        "for doc in nlp.pipe(test_x):\n",
        "    a = doc.vector\n",
        "    test_x_vecs.append(a)\n",
        "# test_X_vecs = [doc.vector for doc in docs]\n",
        "# print(test_X_vecs)\n",
        "\n",
        "# test_x_vecs = []\n",
        "# for docx in nlp.pipe(test_x):\n",
        "#     a = doc.vector\n",
        "#     x_vecs.append(a)\n",
        "# print(test_x_vecs)\n",
        "\n",
        "results = clf.predict(test_x_vecs)\n",
        "print(results)\n",
        "print(test_y)"
      ],
      "metadata": {
        "id": "Y1pRZQv8Pf9B"
      },
      "execution_count": null,
      "outputs": []
    },
    {
      "cell_type": "code",
      "execution_count": null,
      "metadata": {
        "id": "-MEXBOLLPIZd"
      },
      "outputs": [],
      "source": [
        "# train_x_vectors = [doc.vector for doc in docs]\n",
        "# print(train_x_vectors)\n",
        "# clf_svm = svm.SVC(kernel='linear')\n",
        "\n",
        "# clf_svm.fit(x_vecs, train_y)\n",
        "\n",
        "# test_x = [\"landing breaks failed partially\"]\n",
        "# docs = [nlp(text) for text in test_x]\n",
        "# test_x_vectors = [doc.vector for doc in docs]\n",
        "\n",
        "# clf_svm.predict(test_x_vectors)"
      ]
    }
  ],
  "metadata": {
    "colab": {
      "provenance": []
    },
    "kernelspec": {
      "display_name": "Python 3",
      "name": "python3"
    },
    "language_info": {
      "name": "python"
    }
  },
  "nbformat": 4,
  "nbformat_minor": 0
}