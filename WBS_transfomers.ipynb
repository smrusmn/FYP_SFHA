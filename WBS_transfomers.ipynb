{
  "nbformat": 4,
  "nbformat_minor": 0,
  "metadata": {
    "colab": {
      "provenance": []
    },
    "kernelspec": {
      "name": "python3",
      "display_name": "Python 3"
    },
    "language_info": {
      "name": "python"
    }
  },
  "cells": [
    {
      "cell_type": "code",
      "execution_count": null,
      "metadata": {
        "id": "N5L2xf0_WzAL",
        "colab": {
          "base_uri": "https://localhost:8080/"
        },
        "outputId": "9164edc4-fdba-4b44-ad28-9647c22de828"
      },
      "outputs": [
        {
          "output_type": "stream",
          "name": "stdout",
          "text": [
            "Wheel Braking System .... SFHA\n"
          ]
        }
      ],
      "source": [
        "print('Wheel Braking System .... SFHA')"
      ]
    },
    {
      "cell_type": "markdown",
      "source": [
        "# Importing necessary modules\n"
      ],
      "metadata": {
        "id": "TbvHCr3ONNhY"
      }
    },
    {
      "cell_type": "code",
      "execution_count": null,
      "metadata": {
        "id": "k3Od85DHN84B"
      },
      "outputs": [],
      "source": [
        "import spacy\n",
        "from sklearn import svm\n",
        "nlp = spacy.load(\"en_core_web_sm\")\n",
        "import numpy as np\n",
        "import pandas as pd\n"
      ]
    },
    {
      "cell_type": "markdown",
      "source": [
        "# Reading CSV_file"
      ],
      "metadata": {
        "id": "9LfypKRzNeYI"
      }
    },
    {
      "cell_type": "code",
      "source": [
        "df = pd.read_csv('WBS.csv')\n",
        "df.head()"
      ],
      "metadata": {
        "id": "dUy3KOe4W70p",
        "colab": {
          "base_uri": "https://localhost:8080/",
          "height": 310
        },
        "outputId": "db0eba86-3860-461f-807b-d8c299b20fd1"
      },
      "execution_count": null,
      "outputs": [
        {
          "output_type": "execute_result",
          "data": {
            "text/plain": [
              "                                 Function   \\\n",
              "0  Decelerate Aircraft using wheel braking   \n",
              "1  Decelerate Aircraft using wheel braking   \n",
              "2  Decelerate Aircraft using wheel braking   \n",
              "3  Decelerate Aircraft using wheel braking   \n",
              "4  Decelerate Aircraft using wheel braking   \n",
              "\n",
              "                                  Failure Conditon Failure Condition B  \\\n",
              "0                      Total Loss of Wheel Braking         Annuciated    \n",
              "1                      Total Loss of Wheel Braking        Unannuciated   \n",
              "2                      Total Loss of Wheel Braking        Unannuciated   \n",
              "3  Partial Symmetric Loss of Loss of Wheel Braking        Unannuciated   \n",
              "4  Partial Symmetric Loss of Loss of Wheel Braking          annuciated   \n",
              "\n",
              "              Phase  Effect on Crew  Effect on Pilot  Effect on Occupants  \\\n",
              "0           Landing             NaN              NaN                  NaN   \n",
              "1           Landing             NaN              NaN                  NaN   \n",
              "2  Rejected Takeoff             NaN              NaN                  NaN   \n",
              "3           Landing             NaN              NaN                  NaN   \n",
              "4           Landing             NaN              NaN                  NaN   \n",
              "\n",
              "         DAL  \n",
              "0  Hazardous  \n",
              "1  Hazardous  \n",
              "2  Hazardous  \n",
              "3  Hazardous  \n",
              "4      Major  "
            ],
            "text/html": [
              "\n",
              "  <div id=\"df-943f1450-8141-410a-98c3-da2e3995fc39\" class=\"colab-df-container\">\n",
              "    <div>\n",
              "<style scoped>\n",
              "    .dataframe tbody tr th:only-of-type {\n",
              "        vertical-align: middle;\n",
              "    }\n",
              "\n",
              "    .dataframe tbody tr th {\n",
              "        vertical-align: top;\n",
              "    }\n",
              "\n",
              "    .dataframe thead th {\n",
              "        text-align: right;\n",
              "    }\n",
              "</style>\n",
              "<table border=\"1\" class=\"dataframe\">\n",
              "  <thead>\n",
              "    <tr style=\"text-align: right;\">\n",
              "      <th></th>\n",
              "      <th>Function</th>\n",
              "      <th>Failure Conditon</th>\n",
              "      <th>Failure Condition B</th>\n",
              "      <th>Phase</th>\n",
              "      <th>Effect on Crew</th>\n",
              "      <th>Effect on Pilot</th>\n",
              "      <th>Effect on Occupants</th>\n",
              "      <th>DAL</th>\n",
              "    </tr>\n",
              "  </thead>\n",
              "  <tbody>\n",
              "    <tr>\n",
              "      <th>0</th>\n",
              "      <td>Decelerate Aircraft using wheel braking</td>\n",
              "      <td>Total Loss of Wheel Braking</td>\n",
              "      <td>Annuciated</td>\n",
              "      <td>Landing</td>\n",
              "      <td>NaN</td>\n",
              "      <td>NaN</td>\n",
              "      <td>NaN</td>\n",
              "      <td>Hazardous</td>\n",
              "    </tr>\n",
              "    <tr>\n",
              "      <th>1</th>\n",
              "      <td>Decelerate Aircraft using wheel braking</td>\n",
              "      <td>Total Loss of Wheel Braking</td>\n",
              "      <td>Unannuciated</td>\n",
              "      <td>Landing</td>\n",
              "      <td>NaN</td>\n",
              "      <td>NaN</td>\n",
              "      <td>NaN</td>\n",
              "      <td>Hazardous</td>\n",
              "    </tr>\n",
              "    <tr>\n",
              "      <th>2</th>\n",
              "      <td>Decelerate Aircraft using wheel braking</td>\n",
              "      <td>Total Loss of Wheel Braking</td>\n",
              "      <td>Unannuciated</td>\n",
              "      <td>Rejected Takeoff</td>\n",
              "      <td>NaN</td>\n",
              "      <td>NaN</td>\n",
              "      <td>NaN</td>\n",
              "      <td>Hazardous</td>\n",
              "    </tr>\n",
              "    <tr>\n",
              "      <th>3</th>\n",
              "      <td>Decelerate Aircraft using wheel braking</td>\n",
              "      <td>Partial Symmetric Loss of Loss of Wheel Braking</td>\n",
              "      <td>Unannuciated</td>\n",
              "      <td>Landing</td>\n",
              "      <td>NaN</td>\n",
              "      <td>NaN</td>\n",
              "      <td>NaN</td>\n",
              "      <td>Hazardous</td>\n",
              "    </tr>\n",
              "    <tr>\n",
              "      <th>4</th>\n",
              "      <td>Decelerate Aircraft using wheel braking</td>\n",
              "      <td>Partial Symmetric Loss of Loss of Wheel Braking</td>\n",
              "      <td>annuciated</td>\n",
              "      <td>Landing</td>\n",
              "      <td>NaN</td>\n",
              "      <td>NaN</td>\n",
              "      <td>NaN</td>\n",
              "      <td>Major</td>\n",
              "    </tr>\n",
              "  </tbody>\n",
              "</table>\n",
              "</div>\n",
              "    <div class=\"colab-df-buttons\">\n",
              "\n",
              "  <div class=\"colab-df-container\">\n",
              "    <button class=\"colab-df-convert\" onclick=\"convertToInteractive('df-943f1450-8141-410a-98c3-da2e3995fc39')\"\n",
              "            title=\"Convert this dataframe to an interactive table.\"\n",
              "            style=\"display:none;\">\n",
              "\n",
              "  <svg xmlns=\"http://www.w3.org/2000/svg\" height=\"24px\" viewBox=\"0 -960 960 960\">\n",
              "    <path d=\"M120-120v-720h720v720H120Zm60-500h600v-160H180v160Zm220 220h160v-160H400v160Zm0 220h160v-160H400v160ZM180-400h160v-160H180v160Zm440 0h160v-160H620v160ZM180-180h160v-160H180v160Zm440 0h160v-160H620v160Z\"/>\n",
              "  </svg>\n",
              "    </button>\n",
              "\n",
              "  <style>\n",
              "    .colab-df-container {\n",
              "      display:flex;\n",
              "      gap: 12px;\n",
              "    }\n",
              "\n",
              "    .colab-df-convert {\n",
              "      background-color: #E8F0FE;\n",
              "      border: none;\n",
              "      border-radius: 50%;\n",
              "      cursor: pointer;\n",
              "      display: none;\n",
              "      fill: #1967D2;\n",
              "      height: 32px;\n",
              "      padding: 0 0 0 0;\n",
              "      width: 32px;\n",
              "    }\n",
              "\n",
              "    .colab-df-convert:hover {\n",
              "      background-color: #E2EBFA;\n",
              "      box-shadow: 0px 1px 2px rgba(60, 64, 67, 0.3), 0px 1px 3px 1px rgba(60, 64, 67, 0.15);\n",
              "      fill: #174EA6;\n",
              "    }\n",
              "\n",
              "    .colab-df-buttons div {\n",
              "      margin-bottom: 4px;\n",
              "    }\n",
              "\n",
              "    [theme=dark] .colab-df-convert {\n",
              "      background-color: #3B4455;\n",
              "      fill: #D2E3FC;\n",
              "    }\n",
              "\n",
              "    [theme=dark] .colab-df-convert:hover {\n",
              "      background-color: #434B5C;\n",
              "      box-shadow: 0px 1px 3px 1px rgba(0, 0, 0, 0.15);\n",
              "      filter: drop-shadow(0px 1px 2px rgba(0, 0, 0, 0.3));\n",
              "      fill: #FFFFFF;\n",
              "    }\n",
              "  </style>\n",
              "\n",
              "    <script>\n",
              "      const buttonEl =\n",
              "        document.querySelector('#df-943f1450-8141-410a-98c3-da2e3995fc39 button.colab-df-convert');\n",
              "      buttonEl.style.display =\n",
              "        google.colab.kernel.accessAllowed ? 'block' : 'none';\n",
              "\n",
              "      async function convertToInteractive(key) {\n",
              "        const element = document.querySelector('#df-943f1450-8141-410a-98c3-da2e3995fc39');\n",
              "        const dataTable =\n",
              "          await google.colab.kernel.invokeFunction('convertToInteractive',\n",
              "                                                    [key], {});\n",
              "        if (!dataTable) return;\n",
              "\n",
              "        const docLinkHtml = 'Like what you see? Visit the ' +\n",
              "          '<a target=\"_blank\" href=https://colab.research.google.com/notebooks/data_table.ipynb>data table notebook</a>'\n",
              "          + ' to learn more about interactive tables.';\n",
              "        element.innerHTML = '';\n",
              "        dataTable['output_type'] = 'display_data';\n",
              "        await google.colab.output.renderOutput(dataTable, element);\n",
              "        const docLink = document.createElement('div');\n",
              "        docLink.innerHTML = docLinkHtml;\n",
              "        element.appendChild(docLink);\n",
              "      }\n",
              "    </script>\n",
              "  </div>\n",
              "\n",
              "\n",
              "<div id=\"df-011687ed-999f-443c-a42b-dd10cd42e575\">\n",
              "  <button class=\"colab-df-quickchart\" onclick=\"quickchart('df-011687ed-999f-443c-a42b-dd10cd42e575')\"\n",
              "            title=\"Suggest charts\"\n",
              "            style=\"display:none;\">\n",
              "\n",
              "<svg xmlns=\"http://www.w3.org/2000/svg\" height=\"24px\"viewBox=\"0 0 24 24\"\n",
              "     width=\"24px\">\n",
              "    <g>\n",
              "        <path d=\"M19 3H5c-1.1 0-2 .9-2 2v14c0 1.1.9 2 2 2h14c1.1 0 2-.9 2-2V5c0-1.1-.9-2-2-2zM9 17H7v-7h2v7zm4 0h-2V7h2v10zm4 0h-2v-4h2v4z\"/>\n",
              "    </g>\n",
              "</svg>\n",
              "  </button>\n",
              "\n",
              "<style>\n",
              "  .colab-df-quickchart {\n",
              "      --bg-color: #E8F0FE;\n",
              "      --fill-color: #1967D2;\n",
              "      --hover-bg-color: #E2EBFA;\n",
              "      --hover-fill-color: #174EA6;\n",
              "      --disabled-fill-color: #AAA;\n",
              "      --disabled-bg-color: #DDD;\n",
              "  }\n",
              "\n",
              "  [theme=dark] .colab-df-quickchart {\n",
              "      --bg-color: #3B4455;\n",
              "      --fill-color: #D2E3FC;\n",
              "      --hover-bg-color: #434B5C;\n",
              "      --hover-fill-color: #FFFFFF;\n",
              "      --disabled-bg-color: #3B4455;\n",
              "      --disabled-fill-color: #666;\n",
              "  }\n",
              "\n",
              "  .colab-df-quickchart {\n",
              "    background-color: var(--bg-color);\n",
              "    border: none;\n",
              "    border-radius: 50%;\n",
              "    cursor: pointer;\n",
              "    display: none;\n",
              "    fill: var(--fill-color);\n",
              "    height: 32px;\n",
              "    padding: 0;\n",
              "    width: 32px;\n",
              "  }\n",
              "\n",
              "  .colab-df-quickchart:hover {\n",
              "    background-color: var(--hover-bg-color);\n",
              "    box-shadow: 0 1px 2px rgba(60, 64, 67, 0.3), 0 1px 3px 1px rgba(60, 64, 67, 0.15);\n",
              "    fill: var(--button-hover-fill-color);\n",
              "  }\n",
              "\n",
              "  .colab-df-quickchart-complete:disabled,\n",
              "  .colab-df-quickchart-complete:disabled:hover {\n",
              "    background-color: var(--disabled-bg-color);\n",
              "    fill: var(--disabled-fill-color);\n",
              "    box-shadow: none;\n",
              "  }\n",
              "\n",
              "  .colab-df-spinner {\n",
              "    border: 2px solid var(--fill-color);\n",
              "    border-color: transparent;\n",
              "    border-bottom-color: var(--fill-color);\n",
              "    animation:\n",
              "      spin 1s steps(1) infinite;\n",
              "  }\n",
              "\n",
              "  @keyframes spin {\n",
              "    0% {\n",
              "      border-color: transparent;\n",
              "      border-bottom-color: var(--fill-color);\n",
              "      border-left-color: var(--fill-color);\n",
              "    }\n",
              "    20% {\n",
              "      border-color: transparent;\n",
              "      border-left-color: var(--fill-color);\n",
              "      border-top-color: var(--fill-color);\n",
              "    }\n",
              "    30% {\n",
              "      border-color: transparent;\n",
              "      border-left-color: var(--fill-color);\n",
              "      border-top-color: var(--fill-color);\n",
              "      border-right-color: var(--fill-color);\n",
              "    }\n",
              "    40% {\n",
              "      border-color: transparent;\n",
              "      border-right-color: var(--fill-color);\n",
              "      border-top-color: var(--fill-color);\n",
              "    }\n",
              "    60% {\n",
              "      border-color: transparent;\n",
              "      border-right-color: var(--fill-color);\n",
              "    }\n",
              "    80% {\n",
              "      border-color: transparent;\n",
              "      border-right-color: var(--fill-color);\n",
              "      border-bottom-color: var(--fill-color);\n",
              "    }\n",
              "    90% {\n",
              "      border-color: transparent;\n",
              "      border-bottom-color: var(--fill-color);\n",
              "    }\n",
              "  }\n",
              "</style>\n",
              "\n",
              "  <script>\n",
              "    async function quickchart(key) {\n",
              "      const quickchartButtonEl =\n",
              "        document.querySelector('#' + key + ' button');\n",
              "      quickchartButtonEl.disabled = true;  // To prevent multiple clicks.\n",
              "      quickchartButtonEl.classList.add('colab-df-spinner');\n",
              "      try {\n",
              "        const charts = await google.colab.kernel.invokeFunction(\n",
              "            'suggestCharts', [key], {});\n",
              "      } catch (error) {\n",
              "        console.error('Error during call to suggestCharts:', error);\n",
              "      }\n",
              "      quickchartButtonEl.classList.remove('colab-df-spinner');\n",
              "      quickchartButtonEl.classList.add('colab-df-quickchart-complete');\n",
              "    }\n",
              "    (() => {\n",
              "      let quickchartButtonEl =\n",
              "        document.querySelector('#df-011687ed-999f-443c-a42b-dd10cd42e575 button');\n",
              "      quickchartButtonEl.style.display =\n",
              "        google.colab.kernel.accessAllowed ? 'block' : 'none';\n",
              "    })();\n",
              "  </script>\n",
              "</div>\n",
              "    </div>\n",
              "  </div>\n"
            ]
          },
          "metadata": {},
          "execution_count": 3
        }
      ]
    },
    {
      "cell_type": "markdown",
      "source": [
        "# Data Cleaning\n"
      ],
      "metadata": {
        "id": "yV4RNOW-Nldw"
      }
    },
    {
      "cell_type": "code",
      "source": [
        "df.drop(columns=['Effect on Crew','Effect on Pilot', 'Effect on Occupants' ], inplace= True)\n",
        "df.head()"
      ],
      "metadata": {
        "colab": {
          "base_uri": "https://localhost:8080/",
          "height": 206
        },
        "id": "rZEYpASMXtcS",
        "outputId": "90895690-f1ed-4407-9efe-6b0c1494c7c5"
      },
      "execution_count": null,
      "outputs": [
        {
          "output_type": "execute_result",
          "data": {
            "text/plain": [
              "                                 Function   \\\n",
              "0  Decelerate Aircraft using wheel braking   \n",
              "1  Decelerate Aircraft using wheel braking   \n",
              "2  Decelerate Aircraft using wheel braking   \n",
              "3  Decelerate Aircraft using wheel braking   \n",
              "4  Decelerate Aircraft using wheel braking   \n",
              "\n",
              "                                  Failure Conditon Failure Condition B  \\\n",
              "0                      Total Loss of Wheel Braking         Annuciated    \n",
              "1                      Total Loss of Wheel Braking        Unannuciated   \n",
              "2                      Total Loss of Wheel Braking        Unannuciated   \n",
              "3  Partial Symmetric Loss of Loss of Wheel Braking        Unannuciated   \n",
              "4  Partial Symmetric Loss of Loss of Wheel Braking          annuciated   \n",
              "\n",
              "              Phase        DAL  \n",
              "0           Landing  Hazardous  \n",
              "1           Landing  Hazardous  \n",
              "2  Rejected Takeoff  Hazardous  \n",
              "3           Landing  Hazardous  \n",
              "4           Landing      Major  "
            ],
            "text/html": [
              "\n",
              "  <div id=\"df-89a2d849-b4f7-44ce-aa53-244728405a98\" class=\"colab-df-container\">\n",
              "    <div>\n",
              "<style scoped>\n",
              "    .dataframe tbody tr th:only-of-type {\n",
              "        vertical-align: middle;\n",
              "    }\n",
              "\n",
              "    .dataframe tbody tr th {\n",
              "        vertical-align: top;\n",
              "    }\n",
              "\n",
              "    .dataframe thead th {\n",
              "        text-align: right;\n",
              "    }\n",
              "</style>\n",
              "<table border=\"1\" class=\"dataframe\">\n",
              "  <thead>\n",
              "    <tr style=\"text-align: right;\">\n",
              "      <th></th>\n",
              "      <th>Function</th>\n",
              "      <th>Failure Conditon</th>\n",
              "      <th>Failure Condition B</th>\n",
              "      <th>Phase</th>\n",
              "      <th>DAL</th>\n",
              "    </tr>\n",
              "  </thead>\n",
              "  <tbody>\n",
              "    <tr>\n",
              "      <th>0</th>\n",
              "      <td>Decelerate Aircraft using wheel braking</td>\n",
              "      <td>Total Loss of Wheel Braking</td>\n",
              "      <td>Annuciated</td>\n",
              "      <td>Landing</td>\n",
              "      <td>Hazardous</td>\n",
              "    </tr>\n",
              "    <tr>\n",
              "      <th>1</th>\n",
              "      <td>Decelerate Aircraft using wheel braking</td>\n",
              "      <td>Total Loss of Wheel Braking</td>\n",
              "      <td>Unannuciated</td>\n",
              "      <td>Landing</td>\n",
              "      <td>Hazardous</td>\n",
              "    </tr>\n",
              "    <tr>\n",
              "      <th>2</th>\n",
              "      <td>Decelerate Aircraft using wheel braking</td>\n",
              "      <td>Total Loss of Wheel Braking</td>\n",
              "      <td>Unannuciated</td>\n",
              "      <td>Rejected Takeoff</td>\n",
              "      <td>Hazardous</td>\n",
              "    </tr>\n",
              "    <tr>\n",
              "      <th>3</th>\n",
              "      <td>Decelerate Aircraft using wheel braking</td>\n",
              "      <td>Partial Symmetric Loss of Loss of Wheel Braking</td>\n",
              "      <td>Unannuciated</td>\n",
              "      <td>Landing</td>\n",
              "      <td>Hazardous</td>\n",
              "    </tr>\n",
              "    <tr>\n",
              "      <th>4</th>\n",
              "      <td>Decelerate Aircraft using wheel braking</td>\n",
              "      <td>Partial Symmetric Loss of Loss of Wheel Braking</td>\n",
              "      <td>annuciated</td>\n",
              "      <td>Landing</td>\n",
              "      <td>Major</td>\n",
              "    </tr>\n",
              "  </tbody>\n",
              "</table>\n",
              "</div>\n",
              "    <div class=\"colab-df-buttons\">\n",
              "\n",
              "  <div class=\"colab-df-container\">\n",
              "    <button class=\"colab-df-convert\" onclick=\"convertToInteractive('df-89a2d849-b4f7-44ce-aa53-244728405a98')\"\n",
              "            title=\"Convert this dataframe to an interactive table.\"\n",
              "            style=\"display:none;\">\n",
              "\n",
              "  <svg xmlns=\"http://www.w3.org/2000/svg\" height=\"24px\" viewBox=\"0 -960 960 960\">\n",
              "    <path d=\"M120-120v-720h720v720H120Zm60-500h600v-160H180v160Zm220 220h160v-160H400v160Zm0 220h160v-160H400v160ZM180-400h160v-160H180v160Zm440 0h160v-160H620v160ZM180-180h160v-160H180v160Zm440 0h160v-160H620v160Z\"/>\n",
              "  </svg>\n",
              "    </button>\n",
              "\n",
              "  <style>\n",
              "    .colab-df-container {\n",
              "      display:flex;\n",
              "      gap: 12px;\n",
              "    }\n",
              "\n",
              "    .colab-df-convert {\n",
              "      background-color: #E8F0FE;\n",
              "      border: none;\n",
              "      border-radius: 50%;\n",
              "      cursor: pointer;\n",
              "      display: none;\n",
              "      fill: #1967D2;\n",
              "      height: 32px;\n",
              "      padding: 0 0 0 0;\n",
              "      width: 32px;\n",
              "    }\n",
              "\n",
              "    .colab-df-convert:hover {\n",
              "      background-color: #E2EBFA;\n",
              "      box-shadow: 0px 1px 2px rgba(60, 64, 67, 0.3), 0px 1px 3px 1px rgba(60, 64, 67, 0.15);\n",
              "      fill: #174EA6;\n",
              "    }\n",
              "\n",
              "    .colab-df-buttons div {\n",
              "      margin-bottom: 4px;\n",
              "    }\n",
              "\n",
              "    [theme=dark] .colab-df-convert {\n",
              "      background-color: #3B4455;\n",
              "      fill: #D2E3FC;\n",
              "    }\n",
              "\n",
              "    [theme=dark] .colab-df-convert:hover {\n",
              "      background-color: #434B5C;\n",
              "      box-shadow: 0px 1px 3px 1px rgba(0, 0, 0, 0.15);\n",
              "      filter: drop-shadow(0px 1px 2px rgba(0, 0, 0, 0.3));\n",
              "      fill: #FFFFFF;\n",
              "    }\n",
              "  </style>\n",
              "\n",
              "    <script>\n",
              "      const buttonEl =\n",
              "        document.querySelector('#df-89a2d849-b4f7-44ce-aa53-244728405a98 button.colab-df-convert');\n",
              "      buttonEl.style.display =\n",
              "        google.colab.kernel.accessAllowed ? 'block' : 'none';\n",
              "\n",
              "      async function convertToInteractive(key) {\n",
              "        const element = document.querySelector('#df-89a2d849-b4f7-44ce-aa53-244728405a98');\n",
              "        const dataTable =\n",
              "          await google.colab.kernel.invokeFunction('convertToInteractive',\n",
              "                                                    [key], {});\n",
              "        if (!dataTable) return;\n",
              "\n",
              "        const docLinkHtml = 'Like what you see? Visit the ' +\n",
              "          '<a target=\"_blank\" href=https://colab.research.google.com/notebooks/data_table.ipynb>data table notebook</a>'\n",
              "          + ' to learn more about interactive tables.';\n",
              "        element.innerHTML = '';\n",
              "        dataTable['output_type'] = 'display_data';\n",
              "        await google.colab.output.renderOutput(dataTable, element);\n",
              "        const docLink = document.createElement('div');\n",
              "        docLink.innerHTML = docLinkHtml;\n",
              "        element.appendChild(docLink);\n",
              "      }\n",
              "    </script>\n",
              "  </div>\n",
              "\n",
              "\n",
              "<div id=\"df-0dbe7e94-6b69-4008-aac7-ffc27eda9532\">\n",
              "  <button class=\"colab-df-quickchart\" onclick=\"quickchart('df-0dbe7e94-6b69-4008-aac7-ffc27eda9532')\"\n",
              "            title=\"Suggest charts\"\n",
              "            style=\"display:none;\">\n",
              "\n",
              "<svg xmlns=\"http://www.w3.org/2000/svg\" height=\"24px\"viewBox=\"0 0 24 24\"\n",
              "     width=\"24px\">\n",
              "    <g>\n",
              "        <path d=\"M19 3H5c-1.1 0-2 .9-2 2v14c0 1.1.9 2 2 2h14c1.1 0 2-.9 2-2V5c0-1.1-.9-2-2-2zM9 17H7v-7h2v7zm4 0h-2V7h2v10zm4 0h-2v-4h2v4z\"/>\n",
              "    </g>\n",
              "</svg>\n",
              "  </button>\n",
              "\n",
              "<style>\n",
              "  .colab-df-quickchart {\n",
              "      --bg-color: #E8F0FE;\n",
              "      --fill-color: #1967D2;\n",
              "      --hover-bg-color: #E2EBFA;\n",
              "      --hover-fill-color: #174EA6;\n",
              "      --disabled-fill-color: #AAA;\n",
              "      --disabled-bg-color: #DDD;\n",
              "  }\n",
              "\n",
              "  [theme=dark] .colab-df-quickchart {\n",
              "      --bg-color: #3B4455;\n",
              "      --fill-color: #D2E3FC;\n",
              "      --hover-bg-color: #434B5C;\n",
              "      --hover-fill-color: #FFFFFF;\n",
              "      --disabled-bg-color: #3B4455;\n",
              "      --disabled-fill-color: #666;\n",
              "  }\n",
              "\n",
              "  .colab-df-quickchart {\n",
              "    background-color: var(--bg-color);\n",
              "    border: none;\n",
              "    border-radius: 50%;\n",
              "    cursor: pointer;\n",
              "    display: none;\n",
              "    fill: var(--fill-color);\n",
              "    height: 32px;\n",
              "    padding: 0;\n",
              "    width: 32px;\n",
              "  }\n",
              "\n",
              "  .colab-df-quickchart:hover {\n",
              "    background-color: var(--hover-bg-color);\n",
              "    box-shadow: 0 1px 2px rgba(60, 64, 67, 0.3), 0 1px 3px 1px rgba(60, 64, 67, 0.15);\n",
              "    fill: var(--button-hover-fill-color);\n",
              "  }\n",
              "\n",
              "  .colab-df-quickchart-complete:disabled,\n",
              "  .colab-df-quickchart-complete:disabled:hover {\n",
              "    background-color: var(--disabled-bg-color);\n",
              "    fill: var(--disabled-fill-color);\n",
              "    box-shadow: none;\n",
              "  }\n",
              "\n",
              "  .colab-df-spinner {\n",
              "    border: 2px solid var(--fill-color);\n",
              "    border-color: transparent;\n",
              "    border-bottom-color: var(--fill-color);\n",
              "    animation:\n",
              "      spin 1s steps(1) infinite;\n",
              "  }\n",
              "\n",
              "  @keyframes spin {\n",
              "    0% {\n",
              "      border-color: transparent;\n",
              "      border-bottom-color: var(--fill-color);\n",
              "      border-left-color: var(--fill-color);\n",
              "    }\n",
              "    20% {\n",
              "      border-color: transparent;\n",
              "      border-left-color: var(--fill-color);\n",
              "      border-top-color: var(--fill-color);\n",
              "    }\n",
              "    30% {\n",
              "      border-color: transparent;\n",
              "      border-left-color: var(--fill-color);\n",
              "      border-top-color: var(--fill-color);\n",
              "      border-right-color: var(--fill-color);\n",
              "    }\n",
              "    40% {\n",
              "      border-color: transparent;\n",
              "      border-right-color: var(--fill-color);\n",
              "      border-top-color: var(--fill-color);\n",
              "    }\n",
              "    60% {\n",
              "      border-color: transparent;\n",
              "      border-right-color: var(--fill-color);\n",
              "    }\n",
              "    80% {\n",
              "      border-color: transparent;\n",
              "      border-right-color: var(--fill-color);\n",
              "      border-bottom-color: var(--fill-color);\n",
              "    }\n",
              "    90% {\n",
              "      border-color: transparent;\n",
              "      border-bottom-color: var(--fill-color);\n",
              "    }\n",
              "  }\n",
              "</style>\n",
              "\n",
              "  <script>\n",
              "    async function quickchart(key) {\n",
              "      const quickchartButtonEl =\n",
              "        document.querySelector('#' + key + ' button');\n",
              "      quickchartButtonEl.disabled = true;  // To prevent multiple clicks.\n",
              "      quickchartButtonEl.classList.add('colab-df-spinner');\n",
              "      try {\n",
              "        const charts = await google.colab.kernel.invokeFunction(\n",
              "            'suggestCharts', [key], {});\n",
              "      } catch (error) {\n",
              "        console.error('Error during call to suggestCharts:', error);\n",
              "      }\n",
              "      quickchartButtonEl.classList.remove('colab-df-spinner');\n",
              "      quickchartButtonEl.classList.add('colab-df-quickchart-complete');\n",
              "    }\n",
              "    (() => {\n",
              "      let quickchartButtonEl =\n",
              "        document.querySelector('#df-0dbe7e94-6b69-4008-aac7-ffc27eda9532 button');\n",
              "      quickchartButtonEl.style.display =\n",
              "        google.colab.kernel.accessAllowed ? 'block' : 'none';\n",
              "    })();\n",
              "  </script>\n",
              "</div>\n",
              "    </div>\n",
              "  </div>\n"
            ]
          },
          "metadata": {},
          "execution_count": 4
        }
      ]
    },
    {
      "cell_type": "code",
      "source": [
        "df.shape"
      ],
      "metadata": {
        "colab": {
          "base_uri": "https://localhost:8080/"
        },
        "id": "kNzOz4qRFSOQ",
        "outputId": "45368ab4-ed28-4f37-e906-790148f0165d"
      },
      "execution_count": null,
      "outputs": [
        {
          "output_type": "execute_result",
          "data": {
            "text/plain": [
              "(14, 5)"
            ]
          },
          "metadata": {},
          "execution_count": 22
        }
      ]
    },
    {
      "cell_type": "markdown",
      "source": [
        "# Simplifying text"
      ],
      "metadata": {
        "id": "gB33lWG7NqTX"
      }
    },
    {
      "cell_type": "code",
      "source": [
        "\n",
        "# Replace spaces in column names with underscores\n",
        "df.columns = df.columns.str.replace(' ', '_')\n",
        "\n",
        "# Lowercase all column names and values in string columns\n",
        "df = df.apply(lambda x: x.str.lower() if x.dtype == 'object' else x)\n",
        "\n",
        "# Remove special characters from column names\n",
        "df.columns = df.columns.str.replace('[^\\w\\s]', '')\n",
        "\n",
        "# # Remove special characters and spaces from values in string columns\n",
        "# df = df.applymap(lambda x: ''.join(e for e in str(x) if e.isalnum() or e.isspace()) if isinstance(x, str) else x)\n",
        "\n",
        "# Display the preprocessed Data\n",
        "df.head()\n"
      ],
      "metadata": {
        "colab": {
          "base_uri": "https://localhost:8080/",
          "height": 242
        },
        "id": "9Jdib1HXYn-0",
        "outputId": "f4f0aa64-ee0f-4363-9331-7a75474ca5e0"
      },
      "execution_count": null,
      "outputs": [
        {
          "output_type": "stream",
          "name": "stderr",
          "text": [
            "<ipython-input-5-fea379221998>:8: FutureWarning: The default value of regex will change from True to False in a future version.\n",
            "  df.columns = df.columns.str.replace('[^\\w\\s]', '')\n"
          ]
        },
        {
          "output_type": "execute_result",
          "data": {
            "text/plain": [
              "                                 Function_  \\\n",
              "0  decelerate aircraft using wheel braking   \n",
              "1  decelerate aircraft using wheel braking   \n",
              "2  decelerate aircraft using wheel braking   \n",
              "3  decelerate aircraft using wheel braking   \n",
              "4  decelerate aircraft using wheel braking   \n",
              "\n",
              "                                  Failure_Conditon Failure_Condition_B  \\\n",
              "0                      total loss of wheel braking         annuciated    \n",
              "1                      total loss of wheel braking        unannuciated   \n",
              "2                      total loss of wheel braking        unannuciated   \n",
              "3  partial symmetric loss of loss of wheel braking        unannuciated   \n",
              "4  partial symmetric loss of loss of wheel braking          annuciated   \n",
              "\n",
              "              Phase        DAL  \n",
              "0           landing  hazardous  \n",
              "1           landing  hazardous  \n",
              "2  rejected takeoff  hazardous  \n",
              "3           landing  hazardous  \n",
              "4           landing      major  "
            ],
            "text/html": [
              "\n",
              "  <div id=\"df-1c481e21-3a3a-4a89-95a2-177b24c4f3d9\" class=\"colab-df-container\">\n",
              "    <div>\n",
              "<style scoped>\n",
              "    .dataframe tbody tr th:only-of-type {\n",
              "        vertical-align: middle;\n",
              "    }\n",
              "\n",
              "    .dataframe tbody tr th {\n",
              "        vertical-align: top;\n",
              "    }\n",
              "\n",
              "    .dataframe thead th {\n",
              "        text-align: right;\n",
              "    }\n",
              "</style>\n",
              "<table border=\"1\" class=\"dataframe\">\n",
              "  <thead>\n",
              "    <tr style=\"text-align: right;\">\n",
              "      <th></th>\n",
              "      <th>Function_</th>\n",
              "      <th>Failure_Conditon</th>\n",
              "      <th>Failure_Condition_B</th>\n",
              "      <th>Phase</th>\n",
              "      <th>DAL</th>\n",
              "    </tr>\n",
              "  </thead>\n",
              "  <tbody>\n",
              "    <tr>\n",
              "      <th>0</th>\n",
              "      <td>decelerate aircraft using wheel braking</td>\n",
              "      <td>total loss of wheel braking</td>\n",
              "      <td>annuciated</td>\n",
              "      <td>landing</td>\n",
              "      <td>hazardous</td>\n",
              "    </tr>\n",
              "    <tr>\n",
              "      <th>1</th>\n",
              "      <td>decelerate aircraft using wheel braking</td>\n",
              "      <td>total loss of wheel braking</td>\n",
              "      <td>unannuciated</td>\n",
              "      <td>landing</td>\n",
              "      <td>hazardous</td>\n",
              "    </tr>\n",
              "    <tr>\n",
              "      <th>2</th>\n",
              "      <td>decelerate aircraft using wheel braking</td>\n",
              "      <td>total loss of wheel braking</td>\n",
              "      <td>unannuciated</td>\n",
              "      <td>rejected takeoff</td>\n",
              "      <td>hazardous</td>\n",
              "    </tr>\n",
              "    <tr>\n",
              "      <th>3</th>\n",
              "      <td>decelerate aircraft using wheel braking</td>\n",
              "      <td>partial symmetric loss of loss of wheel braking</td>\n",
              "      <td>unannuciated</td>\n",
              "      <td>landing</td>\n",
              "      <td>hazardous</td>\n",
              "    </tr>\n",
              "    <tr>\n",
              "      <th>4</th>\n",
              "      <td>decelerate aircraft using wheel braking</td>\n",
              "      <td>partial symmetric loss of loss of wheel braking</td>\n",
              "      <td>annuciated</td>\n",
              "      <td>landing</td>\n",
              "      <td>major</td>\n",
              "    </tr>\n",
              "  </tbody>\n",
              "</table>\n",
              "</div>\n",
              "    <div class=\"colab-df-buttons\">\n",
              "\n",
              "  <div class=\"colab-df-container\">\n",
              "    <button class=\"colab-df-convert\" onclick=\"convertToInteractive('df-1c481e21-3a3a-4a89-95a2-177b24c4f3d9')\"\n",
              "            title=\"Convert this dataframe to an interactive table.\"\n",
              "            style=\"display:none;\">\n",
              "\n",
              "  <svg xmlns=\"http://www.w3.org/2000/svg\" height=\"24px\" viewBox=\"0 -960 960 960\">\n",
              "    <path d=\"M120-120v-720h720v720H120Zm60-500h600v-160H180v160Zm220 220h160v-160H400v160Zm0 220h160v-160H400v160ZM180-400h160v-160H180v160Zm440 0h160v-160H620v160ZM180-180h160v-160H180v160Zm440 0h160v-160H620v160Z\"/>\n",
              "  </svg>\n",
              "    </button>\n",
              "\n",
              "  <style>\n",
              "    .colab-df-container {\n",
              "      display:flex;\n",
              "      gap: 12px;\n",
              "    }\n",
              "\n",
              "    .colab-df-convert {\n",
              "      background-color: #E8F0FE;\n",
              "      border: none;\n",
              "      border-radius: 50%;\n",
              "      cursor: pointer;\n",
              "      display: none;\n",
              "      fill: #1967D2;\n",
              "      height: 32px;\n",
              "      padding: 0 0 0 0;\n",
              "      width: 32px;\n",
              "    }\n",
              "\n",
              "    .colab-df-convert:hover {\n",
              "      background-color: #E2EBFA;\n",
              "      box-shadow: 0px 1px 2px rgba(60, 64, 67, 0.3), 0px 1px 3px 1px rgba(60, 64, 67, 0.15);\n",
              "      fill: #174EA6;\n",
              "    }\n",
              "\n",
              "    .colab-df-buttons div {\n",
              "      margin-bottom: 4px;\n",
              "    }\n",
              "\n",
              "    [theme=dark] .colab-df-convert {\n",
              "      background-color: #3B4455;\n",
              "      fill: #D2E3FC;\n",
              "    }\n",
              "\n",
              "    [theme=dark] .colab-df-convert:hover {\n",
              "      background-color: #434B5C;\n",
              "      box-shadow: 0px 1px 3px 1px rgba(0, 0, 0, 0.15);\n",
              "      filter: drop-shadow(0px 1px 2px rgba(0, 0, 0, 0.3));\n",
              "      fill: #FFFFFF;\n",
              "    }\n",
              "  </style>\n",
              "\n",
              "    <script>\n",
              "      const buttonEl =\n",
              "        document.querySelector('#df-1c481e21-3a3a-4a89-95a2-177b24c4f3d9 button.colab-df-convert');\n",
              "      buttonEl.style.display =\n",
              "        google.colab.kernel.accessAllowed ? 'block' : 'none';\n",
              "\n",
              "      async function convertToInteractive(key) {\n",
              "        const element = document.querySelector('#df-1c481e21-3a3a-4a89-95a2-177b24c4f3d9');\n",
              "        const dataTable =\n",
              "          await google.colab.kernel.invokeFunction('convertToInteractive',\n",
              "                                                    [key], {});\n",
              "        if (!dataTable) return;\n",
              "\n",
              "        const docLinkHtml = 'Like what you see? Visit the ' +\n",
              "          '<a target=\"_blank\" href=https://colab.research.google.com/notebooks/data_table.ipynb>data table notebook</a>'\n",
              "          + ' to learn more about interactive tables.';\n",
              "        element.innerHTML = '';\n",
              "        dataTable['output_type'] = 'display_data';\n",
              "        await google.colab.output.renderOutput(dataTable, element);\n",
              "        const docLink = document.createElement('div');\n",
              "        docLink.innerHTML = docLinkHtml;\n",
              "        element.appendChild(docLink);\n",
              "      }\n",
              "    </script>\n",
              "  </div>\n",
              "\n",
              "\n",
              "<div id=\"df-0905b98d-8709-487c-be69-c60cc1b49230\">\n",
              "  <button class=\"colab-df-quickchart\" onclick=\"quickchart('df-0905b98d-8709-487c-be69-c60cc1b49230')\"\n",
              "            title=\"Suggest charts\"\n",
              "            style=\"display:none;\">\n",
              "\n",
              "<svg xmlns=\"http://www.w3.org/2000/svg\" height=\"24px\"viewBox=\"0 0 24 24\"\n",
              "     width=\"24px\">\n",
              "    <g>\n",
              "        <path d=\"M19 3H5c-1.1 0-2 .9-2 2v14c0 1.1.9 2 2 2h14c1.1 0 2-.9 2-2V5c0-1.1-.9-2-2-2zM9 17H7v-7h2v7zm4 0h-2V7h2v10zm4 0h-2v-4h2v4z\"/>\n",
              "    </g>\n",
              "</svg>\n",
              "  </button>\n",
              "\n",
              "<style>\n",
              "  .colab-df-quickchart {\n",
              "      --bg-color: #E8F0FE;\n",
              "      --fill-color: #1967D2;\n",
              "      --hover-bg-color: #E2EBFA;\n",
              "      --hover-fill-color: #174EA6;\n",
              "      --disabled-fill-color: #AAA;\n",
              "      --disabled-bg-color: #DDD;\n",
              "  }\n",
              "\n",
              "  [theme=dark] .colab-df-quickchart {\n",
              "      --bg-color: #3B4455;\n",
              "      --fill-color: #D2E3FC;\n",
              "      --hover-bg-color: #434B5C;\n",
              "      --hover-fill-color: #FFFFFF;\n",
              "      --disabled-bg-color: #3B4455;\n",
              "      --disabled-fill-color: #666;\n",
              "  }\n",
              "\n",
              "  .colab-df-quickchart {\n",
              "    background-color: var(--bg-color);\n",
              "    border: none;\n",
              "    border-radius: 50%;\n",
              "    cursor: pointer;\n",
              "    display: none;\n",
              "    fill: var(--fill-color);\n",
              "    height: 32px;\n",
              "    padding: 0;\n",
              "    width: 32px;\n",
              "  }\n",
              "\n",
              "  .colab-df-quickchart:hover {\n",
              "    background-color: var(--hover-bg-color);\n",
              "    box-shadow: 0 1px 2px rgba(60, 64, 67, 0.3), 0 1px 3px 1px rgba(60, 64, 67, 0.15);\n",
              "    fill: var(--button-hover-fill-color);\n",
              "  }\n",
              "\n",
              "  .colab-df-quickchart-complete:disabled,\n",
              "  .colab-df-quickchart-complete:disabled:hover {\n",
              "    background-color: var(--disabled-bg-color);\n",
              "    fill: var(--disabled-fill-color);\n",
              "    box-shadow: none;\n",
              "  }\n",
              "\n",
              "  .colab-df-spinner {\n",
              "    border: 2px solid var(--fill-color);\n",
              "    border-color: transparent;\n",
              "    border-bottom-color: var(--fill-color);\n",
              "    animation:\n",
              "      spin 1s steps(1) infinite;\n",
              "  }\n",
              "\n",
              "  @keyframes spin {\n",
              "    0% {\n",
              "      border-color: transparent;\n",
              "      border-bottom-color: var(--fill-color);\n",
              "      border-left-color: var(--fill-color);\n",
              "    }\n",
              "    20% {\n",
              "      border-color: transparent;\n",
              "      border-left-color: var(--fill-color);\n",
              "      border-top-color: var(--fill-color);\n",
              "    }\n",
              "    30% {\n",
              "      border-color: transparent;\n",
              "      border-left-color: var(--fill-color);\n",
              "      border-top-color: var(--fill-color);\n",
              "      border-right-color: var(--fill-color);\n",
              "    }\n",
              "    40% {\n",
              "      border-color: transparent;\n",
              "      border-right-color: var(--fill-color);\n",
              "      border-top-color: var(--fill-color);\n",
              "    }\n",
              "    60% {\n",
              "      border-color: transparent;\n",
              "      border-right-color: var(--fill-color);\n",
              "    }\n",
              "    80% {\n",
              "      border-color: transparent;\n",
              "      border-right-color: var(--fill-color);\n",
              "      border-bottom-color: var(--fill-color);\n",
              "    }\n",
              "    90% {\n",
              "      border-color: transparent;\n",
              "      border-bottom-color: var(--fill-color);\n",
              "    }\n",
              "  }\n",
              "</style>\n",
              "\n",
              "  <script>\n",
              "    async function quickchart(key) {\n",
              "      const quickchartButtonEl =\n",
              "        document.querySelector('#' + key + ' button');\n",
              "      quickchartButtonEl.disabled = true;  // To prevent multiple clicks.\n",
              "      quickchartButtonEl.classList.add('colab-df-spinner');\n",
              "      try {\n",
              "        const charts = await google.colab.kernel.invokeFunction(\n",
              "            'suggestCharts', [key], {});\n",
              "      } catch (error) {\n",
              "        console.error('Error during call to suggestCharts:', error);\n",
              "      }\n",
              "      quickchartButtonEl.classList.remove('colab-df-spinner');\n",
              "      quickchartButtonEl.classList.add('colab-df-quickchart-complete');\n",
              "    }\n",
              "    (() => {\n",
              "      let quickchartButtonEl =\n",
              "        document.querySelector('#df-0905b98d-8709-487c-be69-c60cc1b49230 button');\n",
              "      quickchartButtonEl.style.display =\n",
              "        google.colab.kernel.accessAllowed ? 'block' : 'none';\n",
              "    })();\n",
              "  </script>\n",
              "</div>\n",
              "    </div>\n",
              "  </div>\n"
            ]
          },
          "metadata": {},
          "execution_count": 5
        }
      ]
    },
    {
      "cell_type": "markdown",
      "source": [
        "# Dividing Data into X and y"
      ],
      "metadata": {
        "id": "WSbJCv3zN1aY"
      }
    },
    {
      "cell_type": "code",
      "source": [
        "\n",
        "X = df.drop('DAL', axis = 'columns')\n",
        "X.head()\n",
        "y = df.DAL\n",
        "y.head()"
      ],
      "metadata": {
        "colab": {
          "base_uri": "https://localhost:8080/"
        },
        "id": "7lD2DGhyaQnm",
        "outputId": "a936bb31-a8ac-4e88-fd5a-1cbe0bc4ed09"
      },
      "execution_count": null,
      "outputs": [
        {
          "output_type": "execute_result",
          "data": {
            "text/plain": [
              "0    hazardous\n",
              "1    hazardous\n",
              "2    hazardous\n",
              "3    hazardous\n",
              "4        major\n",
              "Name: DAL, dtype: object"
            ]
          },
          "metadata": {},
          "execution_count": 6
        }
      ]
    },
    {
      "cell_type": "markdown",
      "source": [
        "# Splitting into Train and Test sections"
      ],
      "metadata": {
        "id": "Ta4td5m1N0w3"
      }
    },
    {
      "cell_type": "code",
      "source": [
        "from sklearn.model_selection import train_test_split\n",
        "X_train, X_test, y_train, y_test = train_test_split(X,y,test_size=0.2, random_state = 10)\n",
        "print(X_train.shape, y_train.shape, X_test.shape, y_test.shape)"
      ],
      "metadata": {
        "colab": {
          "base_uri": "https://localhost:8080/"
        },
        "id": "KhX9xuQOcGCy",
        "outputId": "df5c253f-6198-4c94-eedf-f247f6148314"
      },
      "execution_count": null,
      "outputs": [
        {
          "output_type": "stream",
          "name": "stdout",
          "text": [
            "(11, 4) (11,) (3, 4) (3,)\n"
          ]
        }
      ]
    },
    {
      "cell_type": "markdown",
      "source": [
        "# Converting text to docs and then to vectors"
      ],
      "metadata": {
        "id": "i4ZQDt6xN43C"
      }
    },
    {
      "cell_type": "code",
      "source": [
        "for column in X_train.columns:\n",
        "  docs = [nlp(text) for text in (X_train[column])]\n",
        "  # print(docs)\n",
        "  x1_vecs = []\n",
        "  trf = spacy.load('en_core_web_sm')\n",
        "  for doc in trf.pipe(X_train[column]):\n",
        "    a = doc.vector\n",
        "    x1_vecs.append(a)\n",
        "  print(docs)\n",
        "  # print(x1_vecs)"
      ],
      "metadata": {
        "colab": {
          "base_uri": "https://localhost:8080/"
        },
        "id": "yfAQV9rdcn63",
        "outputId": "3dab125d-84db-43d6-c635-18d957b6ebf4"
      },
      "execution_count": null,
      "outputs": [
        {
          "output_type": "stream",
          "name": "stdout",
          "text": [
            "[decelerate aircraft using wheel braking, decelerate aircraft using wheel braking, decelerate aircraft using wheel braking, decelerate aircraft using wheel braking, decelerate aircraft using wheel braking, decelerate aircraft using wheel braking, decelerate aircraft using wheel braking, decelerate aircraft using wheel braking, decelerate aircraft using wheel braking, decelerate aircraft using wheel braking, decelerate aircraft using wheel braking]\n",
            "[asymmetrical loss of wheel braking, asymmetrical loss of wheel braking, total loss of wheel braking, inadvertent wheel brake application, partial symmetric loss of loss of wheel braking, inadvertent wheel brake application, inadvertent wheel brake application, total loss of wheel braking, total loss of wheel braking, partial symmetric loss of loss of wheel braking, inadvertent wheel brake application]\n",
            "[wheel braking system loss only, whell braking system loss only, unannuciated, with all wheels locked, unannuciated, all wheels locked or not locked, undetected on one wheel without wheel locking coupled with detected high brake temprature, unannuciated, annuciated , annuciated, without wheel locking]\n",
            "[landing, rejected takeoff, rejected takeoff, takeoff before v1, rejected takeoff, takeoff after v1, takeoff, landing, landing, landing, takeoff before v1]\n"
          ]
        }
      ]
    },
    {
      "cell_type": "markdown",
      "source": [
        "# Using SVC linear Classifier"
      ],
      "metadata": {
        "id": "1-LnmmC3OCQR"
      }
    },
    {
      "cell_type": "code",
      "source": [
        "clf = svm.SVC(kernel='linear')\n",
        "clf.fit(x1_vecs,y_train)\n",
        "\n",
        "for column in X_test.columns:\n",
        "  docs = [nlp(text) for text in (X_test[column])]\n",
        "  # print(docs)\n",
        "  x2_vecs = []\n",
        "  trf = spacy.load('en_core_web_sm')\n",
        "  for doc in trf.pipe(X_test[column]):\n",
        "    a = doc.vector\n",
        "    x2_vecs.append(a)\n",
        "  print(docs)"
      ],
      "metadata": {
        "colab": {
          "base_uri": "https://localhost:8080/"
        },
        "id": "08lYQvUhefBD",
        "outputId": "2bfb154e-7f69-4f72-f8a8-c8911683ec3d"
      },
      "execution_count": null,
      "outputs": [
        {
          "output_type": "stream",
          "name": "stdout",
          "text": [
            "[decelerate aircraft using wheel braking, decelerate aircraft using wheel braking, decelerate aircraft using wheel braking]\n",
            "[partial symmetric loss of loss of wheel braking, asymmetrical loss of wheel braking, inadvertent wheel brake application]\n",
            "[unannuciated, wheel braking system and loss of rudder or nose wheel steering, undetected on one wheel without wheel locking]\n",
            "[landing, landing, takeoff]\n"
          ]
        }
      ]
    },
    {
      "cell_type": "code",
      "source": [
        "results = clf.predict(x2_vecs)\n",
        "print(results)\n",
        "print(y_test)"
      ],
      "metadata": {
        "colab": {
          "base_uri": "https://localhost:8080/"
        },
        "id": "ajyMi4I-dVel",
        "outputId": "127d4836-cc61-4191-c959-51c88759f8a5"
      },
      "execution_count": null,
      "outputs": [
        {
          "output_type": "stream",
          "name": "stdout",
          "text": [
            "['hazardous' 'hazardous' 'minor']\n",
            "3        hazardous\n",
            "7        hazardous\n",
            "12    catastrophic\n",
            "Name: DAL, dtype: object\n"
          ]
        }
      ]
    },
    {
      "cell_type": "markdown",
      "source": [
        "# Using Decision Tree\n"
      ],
      "metadata": {
        "id": "-7SqlbyhOI2e"
      }
    },
    {
      "cell_type": "code",
      "source": [
        "from sklearn.tree import DecisionTreeClassifier"
      ],
      "metadata": {
        "id": "zXtvC22bhSN3"
      },
      "execution_count": null,
      "outputs": []
    },
    {
      "cell_type": "code",
      "source": [
        "\n",
        "clf = DecisionTreeClassifier()\n",
        "clf.fit(x1_vecs,y_train)\n",
        "\n",
        "for column in X_test.columns:\n",
        "  docs = [nlp(text) for text in (X_test[column])]\n",
        "  # print(docs)\n",
        "  x2_vecs = []\n",
        "  trf = spacy.load('en_core_web_sm')\n",
        "  for doc in trf.pipe(X_test[column]):\n",
        "    a = doc.vector\n",
        "    x2_vecs.append(a)\n",
        "  print(docs)"
      ],
      "metadata": {
        "colab": {
          "base_uri": "https://localhost:8080/"
        },
        "id": "-TPp63LQgPPU",
        "outputId": "4a400e61-76f2-49b4-ab9d-e4a8a0a34fc1"
      },
      "execution_count": null,
      "outputs": [
        {
          "output_type": "stream",
          "name": "stdout",
          "text": [
            "[decelerate aircraft using wheel braking, decelerate aircraft using wheel braking, decelerate aircraft using wheel braking]\n",
            "[partial symmetric loss of loss of wheel braking, asymmetrical loss of wheel braking, inadvertent wheel brake application]\n",
            "[unannuciated, wheel braking system and loss of rudder or nose wheel steering, undetected on one wheel without wheel locking]\n",
            "[landing, landing, takeoff]\n"
          ]
        }
      ]
    },
    {
      "cell_type": "code",
      "source": [
        "results = clf.predict(x2_vecs)\n",
        "print(results)\n",
        "print(y_test)"
      ],
      "metadata": {
        "colab": {
          "base_uri": "https://localhost:8080/"
        },
        "id": "gi0x6wrzhmQO",
        "outputId": "131016b1-89c6-4274-9161-1e07d383a2a2"
      },
      "execution_count": null,
      "outputs": [
        {
          "output_type": "stream",
          "name": "stdout",
          "text": [
            "['hazardous' 'hazardous' 'minor']\n",
            "3        hazardous\n",
            "7        hazardous\n",
            "12    catastrophic\n",
            "Name: DAL, dtype: object\n"
          ]
        }
      ]
    },
    {
      "cell_type": "markdown",
      "source": [
        "# Using Random Forest Classifier"
      ],
      "metadata": {
        "id": "XnFbohC0ORy6"
      }
    },
    {
      "cell_type": "code",
      "source": [
        "from sklearn.ensemble import RandomForestClassifier\n",
        "clf = RandomForestClassifier()\n",
        "clf.fit(x1_vecs,y_train)\n",
        "\n",
        "for column in X_test.columns:\n",
        "  docs = [nlp(text) for text in (X_test[column])]\n",
        "  # print(docs)\n",
        "  x2_vecs = []\n",
        "  trf = spacy.load('en_core_web_sm')\n",
        "  for doc in trf.pipe(X_test[column]):\n",
        "    a = doc.vector\n",
        "    x2_vecs.append(a)\n",
        "  print(docs)"
      ],
      "metadata": {
        "colab": {
          "base_uri": "https://localhost:8080/"
        },
        "id": "sx4gYLdehrsY",
        "outputId": "38cd2887-7794-4510-e85b-d1b4f0f34d4f"
      },
      "execution_count": null,
      "outputs": [
        {
          "output_type": "stream",
          "name": "stdout",
          "text": [
            "[decelerate aircraft using wheel braking, decelerate aircraft using wheel braking, decelerate aircraft using wheel braking]\n",
            "[partial symmetric loss of loss of wheel braking, asymmetrical loss of wheel braking, inadvertent wheel brake application]\n",
            "[unannuciated, wheel braking system and loss of rudder or nose wheel steering, undetected on one wheel without wheel locking]\n",
            "[landing, landing, takeoff]\n"
          ]
        }
      ]
    },
    {
      "cell_type": "code",
      "source": [
        "results = clf.predict(x2_vecs)\n",
        "print(results)\n",
        "print(y_test)"
      ],
      "metadata": {
        "colab": {
          "base_uri": "https://localhost:8080/"
        },
        "id": "ZEH9elPshr-E",
        "outputId": "0cbcf0e6-d67b-4438-f377-49560e4ca43e"
      },
      "execution_count": null,
      "outputs": [
        {
          "output_type": "stream",
          "name": "stdout",
          "text": [
            "['major' 'major' 'minor']\n",
            "3        hazardous\n",
            "7        hazardous\n",
            "12    catastrophic\n",
            "Name: DAL, dtype: object\n"
          ]
        }
      ]
    },
    {
      "cell_type": "markdown",
      "source": [
        "# Logistic Regression"
      ],
      "metadata": {
        "id": "cBhbH83BOT5a"
      }
    },
    {
      "cell_type": "code",
      "source": [
        "from sklearn.linear_model import LogisticRegression\n",
        "clf = LogisticRegression()\n",
        "clf.fit(x1_vecs,y_train)\n",
        "\n",
        "for column in X_test.columns:\n",
        "  docs = [nlp(text) for text in (X_test[column])]\n",
        "  # print(docs)\n",
        "  x2_vecs = []\n",
        "  trf = spacy.load('en_core_web_sm')\n",
        "  for doc in trf.pipe(X_test[column]):\n",
        "    a = doc.vector\n",
        "    x2_vecs.append(a)\n",
        "  print(docs)"
      ],
      "metadata": {
        "colab": {
          "base_uri": "https://localhost:8080/"
        },
        "id": "vg3ugt0aiCJw",
        "outputId": "cc689c0e-e77d-4261-ffbb-9f030ae8ee31"
      },
      "execution_count": null,
      "outputs": [
        {
          "output_type": "stream",
          "name": "stdout",
          "text": [
            "[decelerate aircraft using wheel braking, decelerate aircraft using wheel braking, decelerate aircraft using wheel braking]\n",
            "[partial symmetric loss of loss of wheel braking, asymmetrical loss of wheel braking, inadvertent wheel brake application]\n",
            "[unannuciated, wheel braking system and loss of rudder or nose wheel steering, undetected on one wheel without wheel locking]\n",
            "[landing, landing, takeoff]\n"
          ]
        }
      ]
    },
    {
      "cell_type": "code",
      "source": [
        "results = clf.predict(x2_vecs)\n",
        "print(results)\n",
        "print(y_test)"
      ],
      "metadata": {
        "colab": {
          "base_uri": "https://localhost:8080/"
        },
        "id": "j0aZ_oZgiQ4I",
        "outputId": "e0efb239-0d27-4fb9-eae0-aab6b8f7c32f"
      },
      "execution_count": null,
      "outputs": [
        {
          "output_type": "stream",
          "name": "stdout",
          "text": [
            "['hazardous' 'hazardous' 'minor']\n",
            "3        hazardous\n",
            "7        hazardous\n",
            "12    catastrophic\n",
            "Name: DAL, dtype: object\n"
          ]
        }
      ]
    },
    {
      "cell_type": "markdown",
      "source": [
        "# Shuffle Split Approach"
      ],
      "metadata": {
        "id": "qg_f180LOXxV"
      }
    },
    {
      "cell_type": "code",
      "source": [
        "for column in X.columns:\n",
        "  docs = [nlp(text) for text in (X[column])]\n",
        "  # print(docs)\n",
        "  x_vecs = []\n",
        "  trf = spacy.load('en_core_web_sm')\n",
        "  for doc in trf.pipe(X[column]):\n",
        "    a = doc.vector\n",
        "    x_vecs.append(a)\n",
        "  print(docs)"
      ],
      "metadata": {
        "colab": {
          "base_uri": "https://localhost:8080/"
        },
        "id": "y2CjtNT5PUsp",
        "outputId": "d68d329c-5438-4dfe-dc15-6758f1fe9661"
      },
      "execution_count": null,
      "outputs": [
        {
          "output_type": "stream",
          "name": "stdout",
          "text": [
            "[decelerate aircraft using wheel braking, decelerate aircraft using wheel braking, decelerate aircraft using wheel braking, decelerate aircraft using wheel braking, decelerate aircraft using wheel braking, decelerate aircraft using wheel braking, decelerate aircraft using wheel braking, decelerate aircraft using wheel braking, decelerate aircraft using wheel braking, decelerate aircraft using wheel braking, decelerate aircraft using wheel braking, decelerate aircraft using wheel braking, decelerate aircraft using wheel braking, decelerate aircraft using wheel braking]\n",
            "[total loss of wheel braking, total loss of wheel braking, total loss of wheel braking, partial symmetric loss of loss of wheel braking, partial symmetric loss of loss of wheel braking, partial symmetric loss of loss of wheel braking, asymmetrical loss of wheel braking, asymmetrical loss of wheel braking, asymmetrical loss of wheel braking, inadvertent wheel brake application, inadvertent wheel brake application, inadvertent wheel brake application, inadvertent wheel brake application, inadvertent wheel brake application]\n",
            "[annuciated , unannuciated, unannuciated, unannuciated, annuciated, unannuciated, wheel braking system loss only, wheel braking system and loss of rudder or nose wheel steering, whell braking system loss only, without wheel locking, with all wheels locked, all wheels locked or not locked, undetected on one wheel without wheel locking, undetected on one wheel without wheel locking coupled with detected high brake temprature]\n",
            "[landing, landing, rejected takeoff, landing, landing, rejected takeoff, landing, landing, rejected takeoff, takeoff before v1, takeoff before v1, takeoff after v1, takeoff, takeoff]\n"
          ]
        }
      ]
    },
    {
      "cell_type": "code",
      "source": [
        "from sklearn.svm import SVC\n",
        "from sklearn.model_selection import ShuffleSplit, cross_val_score\n",
        "\n",
        "cv = ShuffleSplit(n_splits=5, test_size=0.2, random_state=0)\n",
        "cross_val_score(SVC(), x_vecs, y, cv=cv)"
      ],
      "metadata": {
        "colab": {
          "base_uri": "https://localhost:8080/"
        },
        "id": "85Ctya4Cg1Wk",
        "outputId": "0d1fceec-8a73-46f4-8470-39a1add2e271"
      },
      "execution_count": null,
      "outputs": [
        {
          "output_type": "execute_result",
          "data": {
            "text/plain": [
              "array([0.        , 0.33333333, 0.66666667, 0.        , 0.33333333])"
            ]
          },
          "metadata": {},
          "execution_count": 19
        }
      ]
    },
    {
      "cell_type": "code",
      "source": [
        "from sklearn.linear_model import LogisticRegression\n",
        "from sklearn.model_selection import ShuffleSplit, cross_val_score\n",
        "\n",
        "\n",
        "cv = ShuffleSplit(n_splits=5, test_size=0.2, random_state=0)\n",
        "cross_val_score(LogisticRegression(), x_vecs, y, cv=cv)"
      ],
      "metadata": {
        "colab": {
          "base_uri": "https://localhost:8080/"
        },
        "id": "44r2GgmLO53X",
        "outputId": "0d1fe952-4e1d-402f-d5c0-21c37013f207"
      },
      "execution_count": null,
      "outputs": [
        {
          "output_type": "execute_result",
          "data": {
            "text/plain": [
              "array([0.        , 0.33333333, 0.66666667, 0.        , 0.33333333])"
            ]
          },
          "metadata": {},
          "execution_count": 20
        }
      ]
    },
    {
      "cell_type": "code",
      "source": [
        "from sklearn.tree import DecisionTreeClassifier\n",
        "from sklearn.model_selection import ShuffleSplit, cross_val_score\n",
        "\n",
        "\n",
        "cv = ShuffleSplit(n_splits=5, test_size=0.2, random_state=0)\n",
        "cross_val_score(DecisionTreeClassifier(), x_vecs, y, cv=cv)"
      ],
      "metadata": {
        "colab": {
          "base_uri": "https://localhost:8080/"
        },
        "id": "GZLMqvmKPSYT",
        "outputId": "95127655-5449-4151-c56e-709f90338102"
      },
      "execution_count": null,
      "outputs": [
        {
          "output_type": "execute_result",
          "data": {
            "text/plain": [
              "array([0.        , 0.33333333, 0.66666667, 0.        , 0.33333333])"
            ]
          },
          "metadata": {},
          "execution_count": 21
        }
      ]
    }
  ]
}