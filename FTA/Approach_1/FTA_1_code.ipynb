{
 "cells": [
  {
   "cell_type": "code",
   "execution_count": 1,
   "metadata": {},
   "outputs": [
    {
     "name": "stderr",
     "output_type": "stream",
     "text": [
      "C:\\Users\\New User\\AppData\\Local\\Temp\\ipykernel_2680\\3431799980.py:1: DeprecationWarning: \n",
      "Pyarrow will become a required dependency of pandas in the next major release of pandas (pandas 3.0),\n",
      "(to allow more performant data types, such as the Arrow string type, and better interoperability with other libraries)\n",
      "but was not found to be installed on your system.\n",
      "If this would cause problems for you,\n",
      "please provide us feedback at https://github.com/pandas-dev/pandas/issues/54466\n",
      "        \n",
      "  import pandas as pd\n"
     ]
    }
   ],
   "source": [
    "import pandas as pd\n",
    "from sklearn.model_selection import train_test_split\n",
    "from sklearn.linear_model import LogisticRegression\n",
    "from sklearn.svm import LinearSVC\n",
    "from sklearn.metrics import accuracy_score\n"
   ]
  },
  {
   "cell_type": "code",
   "execution_count": 2,
   "metadata": {},
   "outputs": [
    {
     "data": {
      "text/html": [
       "<div>\n",
       "<style scoped>\n",
       "    .dataframe tbody tr th:only-of-type {\n",
       "        vertical-align: middle;\n",
       "    }\n",
       "\n",
       "    .dataframe tbody tr th {\n",
       "        vertical-align: top;\n",
       "    }\n",
       "\n",
       "    .dataframe thead th {\n",
       "        text-align: right;\n",
       "    }\n",
       "</style>\n",
       "<table border=\"1\" class=\"dataframe\">\n",
       "  <thead>\n",
       "    <tr style=\"text-align: right;\">\n",
       "      <th></th>\n",
       "      <th>Intermediate_1</th>\n",
       "      <th>Intermediate_2</th>\n",
       "      <th>Lower_1</th>\n",
       "      <th>Lower_2</th>\n",
       "      <th>Lower_3</th>\n",
       "      <th>Lower_Gate_1</th>\n",
       "      <th>Lower_Gate_2</th>\n",
       "      <th>Intermediate_Gate</th>\n",
       "      <th>Top_Prob</th>\n",
       "      <th>Top_Prob_Category</th>\n",
       "    </tr>\n",
       "  </thead>\n",
       "  <tbody>\n",
       "    <tr>\n",
       "      <th>0</th>\n",
       "      <td>1.010000e-05</td>\n",
       "      <td>1.000000e-21</td>\n",
       "      <td>1.000000e-07</td>\n",
       "      <td>1.000000e-09</td>\n",
       "      <td>1.000000e-05</td>\n",
       "      <td>0</td>\n",
       "      <td>1</td>\n",
       "      <td>0</td>\n",
       "      <td>1.010000e-05</td>\n",
       "      <td>Major</td>\n",
       "    </tr>\n",
       "    <tr>\n",
       "      <th>1</th>\n",
       "      <td>1.000000e-15</td>\n",
       "      <td>1.010000e-03</td>\n",
       "      <td>1.000000e-05</td>\n",
       "      <td>1.000000e-03</td>\n",
       "      <td>1.000000e-07</td>\n",
       "      <td>1</td>\n",
       "      <td>0</td>\n",
       "      <td>1</td>\n",
       "      <td>1.010000e-18</td>\n",
       "      <td>Catastrophic</td>\n",
       "    </tr>\n",
       "    <tr>\n",
       "      <th>2</th>\n",
       "      <td>1.010000e-03</td>\n",
       "      <td>1.000000e-17</td>\n",
       "      <td>1.000000e-03</td>\n",
       "      <td>1.000000e-05</td>\n",
       "      <td>1.000000e-09</td>\n",
       "      <td>0</td>\n",
       "      <td>1</td>\n",
       "      <td>1</td>\n",
       "      <td>1.010000e-20</td>\n",
       "      <td>Catastrophic</td>\n",
       "    </tr>\n",
       "    <tr>\n",
       "      <th>3</th>\n",
       "      <td>1.000000e-19</td>\n",
       "      <td>1.000000e-03</td>\n",
       "      <td>1.000000e-09</td>\n",
       "      <td>1.000000e-07</td>\n",
       "      <td>1.000000e-03</td>\n",
       "      <td>1</td>\n",
       "      <td>0</td>\n",
       "      <td>0</td>\n",
       "      <td>1.000000e-03</td>\n",
       "      <td>Minor</td>\n",
       "    </tr>\n",
       "    <tr>\n",
       "      <th>4</th>\n",
       "      <td>1.010000e-05</td>\n",
       "      <td>1.000000e-21</td>\n",
       "      <td>1.000000e-07</td>\n",
       "      <td>1.000000e-09</td>\n",
       "      <td>1.000000e-05</td>\n",
       "      <td>0</td>\n",
       "      <td>1</td>\n",
       "      <td>0</td>\n",
       "      <td>1.010000e-05</td>\n",
       "      <td>Major</td>\n",
       "    </tr>\n",
       "  </tbody>\n",
       "</table>\n",
       "</div>"
      ],
      "text/plain": [
       "   Intermediate_1  Intermediate_2       Lower_1       Lower_2       Lower_3  \\\n",
       "0    1.010000e-05    1.000000e-21  1.000000e-07  1.000000e-09  1.000000e-05   \n",
       "1    1.000000e-15    1.010000e-03  1.000000e-05  1.000000e-03  1.000000e-07   \n",
       "2    1.010000e-03    1.000000e-17  1.000000e-03  1.000000e-05  1.000000e-09   \n",
       "3    1.000000e-19    1.000000e-03  1.000000e-09  1.000000e-07  1.000000e-03   \n",
       "4    1.010000e-05    1.000000e-21  1.000000e-07  1.000000e-09  1.000000e-05   \n",
       "\n",
       "   Lower_Gate_1  Lower_Gate_2  Intermediate_Gate      Top_Prob  \\\n",
       "0             0             1                  0  1.010000e-05   \n",
       "1             1             0                  1  1.010000e-18   \n",
       "2             0             1                  1  1.010000e-20   \n",
       "3             1             0                  0  1.000000e-03   \n",
       "4             0             1                  0  1.010000e-05   \n",
       "\n",
       "  Top_Prob_Category  \n",
       "0             Major  \n",
       "1      Catastrophic  \n",
       "2      Catastrophic  \n",
       "3             Minor  \n",
       "4             Major  "
      ]
     },
     "execution_count": 2,
     "metadata": {},
     "output_type": "execute_result"
    }
   ],
   "source": [
    "fta = pd.read_csv('FTA_f.csv')\n",
    "fta.head()"
   ]
  },
  {
   "cell_type": "code",
   "execution_count": 3,
   "metadata": {},
   "outputs": [
    {
     "data": {
      "text/plain": [
       "(98, 10)"
      ]
     },
     "execution_count": 3,
     "metadata": {},
     "output_type": "execute_result"
    }
   ],
   "source": [
    "fta.shape"
   ]
  },
  {
   "cell_type": "code",
   "execution_count": 4,
   "metadata": {},
   "outputs": [
    {
     "data": {
      "text/plain": [
       "((98, 9), (98,))"
      ]
     },
     "execution_count": 4,
     "metadata": {},
     "output_type": "execute_result"
    }
   ],
   "source": [
    "y = fta['Top_Prob_Category']\n",
    "X = fta.drop(columns='Top_Prob_Category', axis = 1)\n",
    "X.shape, y.shape"
   ]
  },
  {
   "cell_type": "code",
   "execution_count": 5,
   "metadata": {},
   "outputs": [
    {
     "data": {
      "text/plain": [
       "((88, 9), (10, 9), (88,), (10,))"
      ]
     },
     "execution_count": 5,
     "metadata": {},
     "output_type": "execute_result"
    }
   ],
   "source": [
    "X_train, X_test, y_train, y_test = train_test_split(X, y, test_size=0.1, random_state=42)\n",
    "X_train.shape, X_test.shape, y_train.shape, y_test.shape\n"
   ]
  },
  {
   "cell_type": "code",
   "execution_count": 6,
   "metadata": {},
   "outputs": [],
   "source": [
    "model_LR = LogisticRegression()\n",
    "model_SVC = LinearSVC()\n"
   ]
  },
  {
   "cell_type": "code",
   "execution_count": 7,
   "metadata": {},
   "outputs": [],
   "source": [
    "model_LR.fit(X_train, y_train)\n",
    "results = model_LR.predict(X_test)\n"
   ]
  },
  {
   "cell_type": "code",
   "execution_count": 8,
   "metadata": {},
   "outputs": [
    {
     "name": "stdout",
     "output_type": "stream",
     "text": [
      "1.0\n"
     ]
    }
   ],
   "source": [
    "accuracy = accuracy_score(y_test, results)\n",
    "print(accuracy)"
   ]
  }
 ],
 "metadata": {
  "kernelspec": {
   "display_name": "Python 3",
   "language": "python",
   "name": "python3"
  },
  "language_info": {
   "codemirror_mode": {
    "name": "ipython",
    "version": 3
   },
   "file_extension": ".py",
   "mimetype": "text/x-python",
   "name": "python",
   "nbconvert_exporter": "python",
   "pygments_lexer": "ipython3",
   "version": "3.12.1"
  }
 },
 "nbformat": 4,
 "nbformat_minor": 2
}
